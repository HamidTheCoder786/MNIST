{
 "cells": [
  {
   "cell_type": "code",
   "execution_count": 1,
   "id": "bf1b9186",
   "metadata": {
    "_cell_guid": "b1076dfc-b9ad-4769-8c92-a6c4dae69d19",
    "_uuid": "8f2839f25d086af736a60e9eeb907d3b93b6e0e5",
    "execution": {
     "iopub.execute_input": "2024-03-06T21:09:48.511502Z",
     "iopub.status.busy": "2024-03-06T21:09:48.510901Z",
     "iopub.status.idle": "2024-03-06T21:09:49.766796Z",
     "shell.execute_reply": "2024-03-06T21:09:49.765484Z"
    },
    "papermill": {
     "duration": 1.265402,
     "end_time": "2024-03-06T21:09:49.769095",
     "exception": false,
     "start_time": "2024-03-06T21:09:48.503693",
     "status": "completed"
    },
    "tags": []
   },
   "outputs": [
    {
     "name": "stdout",
     "output_type": "stream",
     "text": [
      "/kaggle/input/digit-recognizer/sample_submission.csv\n",
      "/kaggle/input/digit-recognizer/train.csv\n",
      "/kaggle/input/digit-recognizer/test.csv\n"
     ]
    }
   ],
   "source": [
    "# This Python 3 environment comes with many helpful analytics libraries installed\n",
    "# It is defined by the kaggle/python Docker image: https://github.com/kaggle/docker-python\n",
    "# For example, here's several helpful packages to load\n",
    "\n",
    "import numpy as np # linear algebra\n",
    "import pandas as pd # data processing, CSV file I/O (e.g. pd.read_csv)\n",
    "\n",
    "# Input data files are available in the read-only \"../input/\" directory\n",
    "# For example, running this (by clicking run or pressing Shift+Enter) will list all files under the input directory\n",
    "\n",
    "import os\n",
    "for dirname, _, filenames in os.walk('/kaggle/input'):\n",
    "    for filename in filenames:\n",
    "        print(os.path.join(dirname, filename))\n",
    "\n",
    "# You can write up to 20GB to the current directory (/kaggle/working/) that gets preserved as output when you create a version using \"Save & Run All\" \n",
    "# You can also write temporary files to /kaggle/temp/, but they won't be saved outside of the current session"
   ]
  },
  {
   "cell_type": "code",
   "execution_count": 2,
   "id": "abeb040b",
   "metadata": {
    "execution": {
     "iopub.execute_input": "2024-03-06T21:09:49.782171Z",
     "iopub.status.busy": "2024-03-06T21:09:49.781703Z",
     "iopub.status.idle": "2024-03-06T21:09:53.406208Z",
     "shell.execute_reply": "2024-03-06T21:09:53.405221Z"
    },
    "papermill": {
     "duration": 3.633292,
     "end_time": "2024-03-06T21:09:53.408317",
     "exception": false,
     "start_time": "2024-03-06T21:09:49.775025",
     "status": "completed"
    },
    "tags": []
   },
   "outputs": [
    {
     "data": {
      "text/html": [
       "<div>\n",
       "<style scoped>\n",
       "    .dataframe tbody tr th:only-of-type {\n",
       "        vertical-align: middle;\n",
       "    }\n",
       "\n",
       "    .dataframe tbody tr th {\n",
       "        vertical-align: top;\n",
       "    }\n",
       "\n",
       "    .dataframe thead th {\n",
       "        text-align: right;\n",
       "    }\n",
       "</style>\n",
       "<table border=\"1\" class=\"dataframe\">\n",
       "  <thead>\n",
       "    <tr style=\"text-align: right;\">\n",
       "      <th></th>\n",
       "      <th>label</th>\n",
       "      <th>pixel0</th>\n",
       "      <th>pixel1</th>\n",
       "      <th>pixel2</th>\n",
       "      <th>pixel3</th>\n",
       "      <th>pixel4</th>\n",
       "      <th>pixel5</th>\n",
       "      <th>pixel6</th>\n",
       "      <th>pixel7</th>\n",
       "      <th>pixel8</th>\n",
       "      <th>...</th>\n",
       "      <th>pixel774</th>\n",
       "      <th>pixel775</th>\n",
       "      <th>pixel776</th>\n",
       "      <th>pixel777</th>\n",
       "      <th>pixel778</th>\n",
       "      <th>pixel779</th>\n",
       "      <th>pixel780</th>\n",
       "      <th>pixel781</th>\n",
       "      <th>pixel782</th>\n",
       "      <th>pixel783</th>\n",
       "    </tr>\n",
       "  </thead>\n",
       "  <tbody>\n",
       "    <tr>\n",
       "      <th>0</th>\n",
       "      <td>1</td>\n",
       "      <td>0</td>\n",
       "      <td>0</td>\n",
       "      <td>0</td>\n",
       "      <td>0</td>\n",
       "      <td>0</td>\n",
       "      <td>0</td>\n",
       "      <td>0</td>\n",
       "      <td>0</td>\n",
       "      <td>0</td>\n",
       "      <td>...</td>\n",
       "      <td>0</td>\n",
       "      <td>0</td>\n",
       "      <td>0</td>\n",
       "      <td>0</td>\n",
       "      <td>0</td>\n",
       "      <td>0</td>\n",
       "      <td>0</td>\n",
       "      <td>0</td>\n",
       "      <td>0</td>\n",
       "      <td>0</td>\n",
       "    </tr>\n",
       "  </tbody>\n",
       "</table>\n",
       "<p>1 rows × 785 columns</p>\n",
       "</div>"
      ],
      "text/plain": [
       "   label  pixel0  pixel1  pixel2  pixel3  pixel4  pixel5  pixel6  pixel7  \\\n",
       "0      1       0       0       0       0       0       0       0       0   \n",
       "\n",
       "   pixel8  ...  pixel774  pixel775  pixel776  pixel777  pixel778  pixel779  \\\n",
       "0       0  ...         0         0         0         0         0         0   \n",
       "\n",
       "   pixel780  pixel781  pixel782  pixel783  \n",
       "0         0         0         0         0  \n",
       "\n",
       "[1 rows x 785 columns]"
      ]
     },
     "execution_count": 2,
     "metadata": {},
     "output_type": "execute_result"
    }
   ],
   "source": [
    "df=pd.read_csv(\"/kaggle/input/digit-recognizer/train.csv\")\n",
    "df.head(1)"
   ]
  },
  {
   "cell_type": "code",
   "execution_count": 3,
   "id": "cc0195a3",
   "metadata": {
    "execution": {
     "iopub.execute_input": "2024-03-06T21:09:53.421739Z",
     "iopub.status.busy": "2024-03-06T21:09:53.421444Z",
     "iopub.status.idle": "2024-03-06T21:09:53.426938Z",
     "shell.execute_reply": "2024-03-06T21:09:53.426153Z"
    },
    "papermill": {
     "duration": 0.014419,
     "end_time": "2024-03-06T21:09:53.428789",
     "exception": false,
     "start_time": "2024-03-06T21:09:53.414370",
     "status": "completed"
    },
    "tags": []
   },
   "outputs": [
    {
     "data": {
      "text/plain": [
       "(42000, 785)"
      ]
     },
     "execution_count": 3,
     "metadata": {},
     "output_type": "execute_result"
    }
   ],
   "source": [
    "df.shape"
   ]
  },
  {
   "cell_type": "markdown",
   "id": "ddb13136",
   "metadata": {
    "execution": {
     "iopub.execute_input": "2024-03-06T20:02:25.991747Z",
     "iopub.status.busy": "2024-03-06T20:02:25.991330Z",
     "iopub.status.idle": "2024-03-06T20:02:25.997114Z",
     "shell.execute_reply": "2024-03-06T20:02:25.995897Z",
     "shell.execute_reply.started": "2024-03-06T20:02:25.991715Z"
    },
    "papermill": {
     "duration": 0.00549,
     "end_time": "2024-03-06T21:09:53.440023",
     "exception": false,
     "start_time": "2024-03-06T21:09:53.434533",
     "status": "completed"
    },
    "tags": []
   },
   "source": [
    "# every image is 28 x 28 px"
   ]
  },
  {
   "cell_type": "code",
   "execution_count": 4,
   "id": "aa558ae2",
   "metadata": {
    "execution": {
     "iopub.execute_input": "2024-03-06T21:09:53.452886Z",
     "iopub.status.busy": "2024-03-06T21:09:53.452625Z",
     "iopub.status.idle": "2024-03-06T21:09:53.456595Z",
     "shell.execute_reply": "2024-03-06T21:09:53.455775Z"
    },
    "papermill": {
     "duration": 0.012654,
     "end_time": "2024-03-06T21:09:53.458622",
     "exception": false,
     "start_time": "2024-03-06T21:09:53.445968",
     "status": "completed"
    },
    "tags": []
   },
   "outputs": [],
   "source": [
    "import matplotlib as mlp\n",
    "import matplotlib.pyplot as plt\n"
   ]
  },
  {
   "cell_type": "code",
   "execution_count": 5,
   "id": "1af3c4de",
   "metadata": {
    "execution": {
     "iopub.execute_input": "2024-03-06T21:09:53.471461Z",
     "iopub.status.busy": "2024-03-06T21:09:53.471190Z",
     "iopub.status.idle": "2024-03-06T21:10:37.742117Z",
     "shell.execute_reply": "2024-03-06T21:10:37.741225Z"
    },
    "papermill": {
     "duration": 44.285104,
     "end_time": "2024-03-06T21:10:37.749520",
     "exception": false,
     "start_time": "2024-03-06T21:09:53.464416",
     "status": "completed"
    },
    "tags": []
   },
   "outputs": [
    {
     "name": "stderr",
     "output_type": "stream",
     "text": [
      "/opt/conda/lib/python3.10/site-packages/sklearn/datasets/_openml.py:968: FutureWarning: The default value of `parser` will change from `'liac-arff'` to `'auto'` in 1.4. You can set `parser='auto'` to silence this warning. Therefore, an `ImportError` will be raised from 1.4 if the dataset is dense and pandas is not installed. Note that the pandas parser may return different data types. See the Notes Section in fetch_openml's API doc for details.\n",
      "  warn(\n"
     ]
    },
    {
     "data": {
      "text/plain": [
       "dict_keys(['data', 'target', 'frame', 'categories', 'feature_names', 'target_names', 'DESCR', 'details', 'url'])"
      ]
     },
     "execution_count": 5,
     "metadata": {},
     "output_type": "execute_result"
    }
   ],
   "source": [
    "# some_digit=df.head(1)\n",
    "# df.head(1)\n",
    "from sklearn.datasets import fetch_openml\n",
    "mnist = fetch_openml('mnist_784', version=1, as_frame=False)\n",
    "mnist.keys()"
   ]
  },
  {
   "cell_type": "code",
   "execution_count": 6,
   "id": "06e748e7",
   "metadata": {
    "execution": {
     "iopub.execute_input": "2024-03-06T21:10:37.763683Z",
     "iopub.status.busy": "2024-03-06T21:10:37.762838Z",
     "iopub.status.idle": "2024-03-06T21:10:37.768799Z",
     "shell.execute_reply": "2024-03-06T21:10:37.768060Z"
    },
    "papermill": {
     "duration": 0.015065,
     "end_time": "2024-03-06T21:10:37.770744",
     "exception": false,
     "start_time": "2024-03-06T21:10:37.755679",
     "status": "completed"
    },
    "tags": []
   },
   "outputs": [
    {
     "data": {
      "text/plain": [
       "(70000,)"
      ]
     },
     "execution_count": 6,
     "metadata": {},
     "output_type": "execute_result"
    }
   ],
   "source": [
    "X, y = mnist[\"data\"], mnist[\"target\"]\n",
    "X.shape\n",
    "y.shape"
   ]
  },
  {
   "cell_type": "code",
   "execution_count": 7,
   "id": "5b8450ae",
   "metadata": {
    "execution": {
     "iopub.execute_input": "2024-03-06T21:10:37.784661Z",
     "iopub.status.busy": "2024-03-06T21:10:37.784160Z",
     "iopub.status.idle": "2024-03-06T21:10:37.787893Z",
     "shell.execute_reply": "2024-03-06T21:10:37.787096Z"
    },
    "papermill": {
     "duration": 0.012957,
     "end_time": "2024-03-06T21:10:37.789853",
     "exception": false,
     "start_time": "2024-03-06T21:10:37.776896",
     "status": "completed"
    },
    "tags": []
   },
   "outputs": [],
   "source": [
    "some_digit=X[0]"
   ]
  },
  {
   "cell_type": "code",
   "execution_count": 8,
   "id": "6d746b5a",
   "metadata": {
    "execution": {
     "iopub.execute_input": "2024-03-06T21:10:37.803359Z",
     "iopub.status.busy": "2024-03-06T21:10:37.802991Z",
     "iopub.status.idle": "2024-03-06T21:10:37.900339Z",
     "shell.execute_reply": "2024-03-06T21:10:37.899404Z"
    },
    "papermill": {
     "duration": 0.108666,
     "end_time": "2024-03-06T21:10:37.904638",
     "exception": false,
     "start_time": "2024-03-06T21:10:37.795972",
     "status": "completed"
    },
    "tags": []
   },
   "outputs": [
    {
     "data": {
      "image/png": "[encoded data removed]",
      "text/plain": [
       "<Figure size 640x480 with 1 Axes>"
      ]
     },
     "metadata": {},
     "output_type": "display_data"
    }
   ],
   "source": [
    "import matplotlib as mpl\n",
    "some_digit_image=some_digit.reshape(28,28)\n",
    "plt.imshow(some_digit_image,cmap=mpl.cm.binary,interpolation=\"nearest\")\n",
    "plt.axis(\"off\")\n",
    "plt.show()\n",
    "# ,cmap=mpl.cm.binary"
   ]
  },
  {
   "cell_type": "code",
   "execution_count": 9,
   "id": "13cd5144",
   "metadata": {
    "execution": {
     "iopub.execute_input": "2024-03-06T21:10:37.939268Z",
     "iopub.status.busy": "2024-03-06T21:10:37.938221Z",
     "iopub.status.idle": "2024-03-06T21:10:37.946621Z",
     "shell.execute_reply": "2024-03-06T21:10:37.945510Z"
    },
    "papermill": {
     "duration": 0.030119,
     "end_time": "2024-03-06T21:10:37.950023",
     "exception": false,
     "start_time": "2024-03-06T21:10:37.919904",
     "status": "completed"
    },
    "tags": []
   },
   "outputs": [
    {
     "data": {
      "text/plain": [
       "'5'"
      ]
     },
     "execution_count": 9,
     "metadata": {},
     "output_type": "execute_result"
    }
   ],
   "source": [
    "y[0]"
   ]
  },
  {
   "cell_type": "code",
   "execution_count": 10,
   "id": "36120d9e",
   "metadata": {
    "execution": {
     "iopub.execute_input": "2024-03-06T21:10:37.983238Z",
     "iopub.status.busy": "2024-03-06T21:10:37.981888Z",
     "iopub.status.idle": "2024-03-06T21:10:38.200000Z",
     "shell.execute_reply": "2024-03-06T21:10:38.199247Z"
    },
    "papermill": {
     "duration": 0.237153,
     "end_time": "2024-03-06T21:10:38.202416",
     "exception": false,
     "start_time": "2024-03-06T21:10:37.965263",
     "status": "completed"
    },
    "tags": []
   },
   "outputs": [],
   "source": [
    "from sklearn.model_selection import train_test_split"
   ]
  },
  {
   "cell_type": "code",
   "execution_count": 11,
   "id": "0a1402f0",
   "metadata": {
    "execution": {
     "iopub.execute_input": "2024-03-06T21:10:38.217243Z",
     "iopub.status.busy": "2024-03-06T21:10:38.216815Z",
     "iopub.status.idle": "2024-03-06T21:10:38.887014Z",
     "shell.execute_reply": "2024-03-06T21:10:38.886138Z"
    },
    "papermill": {
     "duration": 0.680359,
     "end_time": "2024-03-06T21:10:38.889549",
     "exception": false,
     "start_time": "2024-03-06T21:10:38.209190",
     "status": "completed"
    },
    "tags": []
   },
   "outputs": [],
   "source": [
    "X_train,X_test,y_train,y_test=train_test_split(X,y,random_state=42,test_size=0.2)"
   ]
  },
  {
   "cell_type": "code",
   "execution_count": 12,
   "id": "5b329a16",
   "metadata": {
    "execution": {
     "iopub.execute_input": "2024-03-06T21:10:38.906605Z",
     "iopub.status.busy": "2024-03-06T21:10:38.905930Z",
     "iopub.status.idle": "2024-03-06T21:10:38.912224Z",
     "shell.execute_reply": "2024-03-06T21:10:38.911279Z"
    },
    "papermill": {
     "duration": 0.017116,
     "end_time": "2024-03-06T21:10:38.914481",
     "exception": false,
     "start_time": "2024-03-06T21:10:38.897365",
     "status": "completed"
    },
    "tags": []
   },
   "outputs": [
    {
     "data": {
      "text/plain": [
       "((56000, 784), (14000, 784))"
      ]
     },
     "execution_count": 12,
     "metadata": {},
     "output_type": "execute_result"
    }
   ],
   "source": [
    "X_train.shape , X_test.shape"
   ]
  },
  {
   "cell_type": "markdown",
   "id": "c89f131f",
   "metadata": {
    "execution": {
     "iopub.execute_input": "2024-03-06T20:21:12.357041Z",
     "iopub.status.busy": "2024-03-06T20:21:12.356623Z",
     "iopub.status.idle": "2024-03-06T20:21:12.361566Z",
     "shell.execute_reply": "2024-03-06T20:21:12.360760Z",
     "shell.execute_reply.started": "2024-03-06T20:21:12.357010Z"
    },
    "papermill": {
     "duration": 0.007442,
     "end_time": "2024-03-06T21:10:38.929519",
     "exception": false,
     "start_time": "2024-03-06T21:10:38.922077",
     "status": "completed"
    },
    "tags": []
   },
   "source": [
    "# Training a binary Classifier \n",
    "\n",
    "* inorder to maintain simplicty we 'll first try to identiy only one digit i.e. 5 as of now we'll work on the remaining digits later "
   ]
  },
  {
   "cell_type": "code",
   "execution_count": 13,
   "id": "14630df8",
   "metadata": {
    "execution": {
     "iopub.execute_input": "2024-03-06T21:10:38.946144Z",
     "iopub.status.busy": "2024-03-06T21:10:38.945808Z",
     "iopub.status.idle": "2024-03-06T21:10:38.956270Z",
     "shell.execute_reply": "2024-03-06T21:10:38.955357Z"
    },
    "papermill": {
     "duration": 0.021459,
     "end_time": "2024-03-06T21:10:38.958629",
     "exception": false,
     "start_time": "2024-03-06T21:10:38.937170",
     "status": "completed"
    },
    "tags": []
   },
   "outputs": [
    {
     "data": {
      "text/plain": [
       "array([[0., 0., 0., ..., 0., 0., 0.],\n",
       "       [0., 0., 0., ..., 0., 0., 0.],\n",
       "       [0., 0., 0., ..., 0., 0., 0.],\n",
       "       ...,\n",
       "       [0., 0., 0., ..., 0., 0., 0.],\n",
       "       [0., 0., 0., ..., 0., 0., 0.],\n",
       "       [0., 0., 0., ..., 0., 0., 0.]])"
      ]
     },
     "execution_count": 13,
     "metadata": {},
     "output_type": "execute_result"
    }
   ],
   "source": [
    "y_train_5=(y_train == 5)\n",
    "y_test_5=(y_test == 5)\n",
    "y_train_5\n",
    "X_train"
   ]
  },
  {
   "cell_type": "code",
   "execution_count": null,
   "id": "a1ea0038",
   "metadata": {
    "execution": {
     "iopub.execute_input": "2024-03-06T20:35:01.737841Z",
     "iopub.status.busy": "2024-03-06T20:35:01.737592Z",
     "iopub.status.idle": "2024-03-06T20:37:34.275346Z",
     "shell.execute_reply": "2024-03-06T20:37:34.274331Z",
     "shell.execute_reply.started": "2024-03-06T20:35:01.737819Z"
    },
    "papermill": {
     "duration": null,
     "end_time": null,
     "exception": false,
     "start_time": "2024-03-06T21:10:38.967206",
     "status": "running"
    },
    "tags": []
   },
   "outputs": [],
   "source": [
    "from sklearn.linear_model import SGDClassifier \n",
    "# sgd_clf=SGDClassifier(random_state=42)\n",
    "sgd_clf = SGDClassifier(max_iter=1000, tol=1e-3, random_state=42)\n",
    "sgd_clf.fit(X_train,y_train)"
   ]
  },
  {
   "cell_type": "markdown",
   "id": "adce1aec",
   "metadata": {
    "papermill": {
     "duration": null,
     "end_time": null,
     "exception": null,
     "start_time": null,
     "status": "pending"
    },
    "tags": []
   },
   "source": [
    "#  performance measure \n",
    "1. using cross validation"
   ]
  },
  {
   "cell_type": "code",
   "execution_count": null,
   "id": "ec1d11a4",
   "metadata": {
    "execution": {
     "iopub.execute_input": "2024-03-06T20:56:31.472745Z",
     "iopub.status.busy": "2024-03-06T20:56:31.471898Z",
     "iopub.status.idle": "2024-03-06T20:56:31.476902Z",
     "shell.execute_reply": "2024-03-06T20:56:31.476004Z",
     "shell.execute_reply.started": "2024-03-06T20:56:31.472713Z"
    },
    "papermill": {
     "duration": null,
     "end_time": null,
     "exception": null,
     "start_time": null,
     "status": "pending"
    },
    "tags": []
   },
   "outputs": [],
   "source": [
    "from sklearn.model_selection import StratifiedGroupKFold\n",
    "from sklearn.base import clone \n",
    "skfolds = StratifiedGroupKFold(n_splits=3)\n"
   ]
  },
  {
   "cell_type": "code",
   "execution_count": null,
   "id": "34604f65",
   "metadata": {
    "papermill": {
     "duration": null,
     "end_time": null,
     "exception": null,
     "start_time": null,
     "status": "pending"
    },
    "tags": []
   },
   "outputs": [],
   "source": [
    "for train_index , test_index in skfolds.splits(X_train,y_train_5):\n",
    "    clone_clf=clone(sgd_clf)\n",
    "    X_train_folds=X_train[train_index]\n",
    "    \n"
   ]
  }
 ],
 "metadata": {
  "kaggle": {
   "accelerator": "nvidiaTeslaT4",
   "dataSources": [
    {
     "databundleVersionId": 861823,
     "sourceId": 3004,
     "sourceType": "competition"
    }
   ],
   "dockerImageVersionId": 30665,
   "isGpuEnabled": true,
   "isInternetEnabled": true,
   "language": "python",
   "sourceType": "notebook"
  },
  "kernelspec": {
   "display_name": "Python 3",
   "language": "python",
   "name": "python3"
  },
  "language_info": {
   "codemirror_mode": {
    "name": "ipython",
    "version": 3
   },
   "file_extension": ".py",
   "mimetype": "text/x-python",
   "name": "python",
   "nbconvert_exporter": "python",
   "pygments_lexer": "ipython3",
   "version": "3.10.13"
  },
  "papermill": {
   "default_parameters": {},
   "duration": null,
   "end_time": null,
   "environment_variables": {},
   "exception": null,
   "input_path": "__notebook__.ipynb",
   "output_path": "__notebook__.ipynb",
   "parameters": {},
   "start_time": "2024-03-06T21:09:44.532860",
   "version": "2.5.0"
  }
 },
 "nbformat": 4,
 "nbformat_minor": 5
}